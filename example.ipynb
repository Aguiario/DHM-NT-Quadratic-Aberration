{
 "cells": [
  {
   "cell_type": "code",
   "execution_count": 1,
   "metadata": {},
   "outputs": [
    {
     "ename": "FileNotFoundError",
     "evalue": "[Errno 2] No such file or directory: 'C:\\\\Users\\\\sbasa\\\\AppData\\\\Local\\\\Programs\\\\Microsoft VS Code\\\\Images\\\\hologram.tif'",
     "output_type": "error",
     "traceback": [
      "\u001b[1;31m---------------------------------------------------------------------------\u001b[0m",
      "\u001b[1;31mFileNotFoundError\u001b[0m                         Traceback (most recent call last)",
      "Cell \u001b[1;32mIn[1], line 4\u001b[0m\n\u001b[0;32m      1\u001b[0m \u001b[38;5;28;01mfrom\u001b[39;00m \u001b[38;5;21;01mpyDHM\u001b[39;00m \u001b[38;5;28;01mimport\u001b[39;00m utilities\n\u001b[0;32m      2\u001b[0m \u001b[38;5;28;01mfrom\u001b[39;00m \u001b[38;5;21;01mpyDHM\u001b[39;00m \u001b[38;5;28;01mimport\u001b[39;00m phaseCompensation\n\u001b[1;32m----> 4\u001b[0m \u001b[38;5;28minput\u001b[39m \u001b[38;5;241m=\u001b[39m \u001b[43mutilities\u001b[49m\u001b[38;5;241;43m.\u001b[39;49m\u001b[43mimageRead\u001b[49m\u001b[43m(\u001b[49m\u001b[38;5;124;43m'\u001b[39;49m\u001b[38;5;124;43mImages/hologram.tif\u001b[39;49m\u001b[38;5;124;43m'\u001b[39;49m\u001b[43m)\u001b[49m\n\u001b[0;32m      5\u001b[0m output \u001b[38;5;241m=\u001b[39m phaseCompensation\u001b[38;5;241m.\u001b[39mFRS(\u001b[38;5;28minput\u001b[39m, \u001b[38;5;28;01mTrue\u001b[39;00m, \u001b[38;5;241m0.633\u001b[39m, \u001b[38;5;241m6.9\u001b[39m, \u001b[38;5;241m6.9\u001b[39m, \u001b[38;5;241m2\u001b[39m, \u001b[38;5;241m10\u001b[39m)\n\u001b[0;32m      6\u001b[0m output \u001b[38;5;241m=\u001b[39m phaseCompensation\u001b[38;5;241m.\u001b[39mCFS(\u001b[38;5;28minput\u001b[39m, \u001b[38;5;241m0.532\u001b[39m, \u001b[38;5;241m2.6\u001b[39m, \u001b[38;5;241m2.3\u001b[39m)\n",
      "File \u001b[1;32mc:\\Users\\sbasa\\.conda\\envs\\Optica\\Lib\\site-packages\\pyDHM\\utilities.py:238\u001b[0m, in \u001b[0;36mimageRead\u001b[1;34m(namefile)\u001b[0m\n\u001b[0;32m    237\u001b[0m \u001b[38;5;28;01mdef\u001b[39;00m \u001b[38;5;21mimageRead\u001b[39m(namefile):\n\u001b[1;32m--> 238\u001b[0m     Im \u001b[38;5;241m=\u001b[39m \u001b[43mImage\u001b[49m\u001b[38;5;241;43m.\u001b[39;49m\u001b[43mopen\u001b[49m\u001b[43m(\u001b[49m\u001b[43mnamefile\u001b[49m\u001b[43m)\u001b[49m\n\u001b[0;32m    239\u001b[0m     loadImage \u001b[38;5;241m=\u001b[39m ImageOps\u001b[38;5;241m.\u001b[39mgrayscale(Im)\n\u001b[0;32m    241\u001b[0m     \u001b[38;5;28;01mreturn\u001b[39;00m loadImage\n",
      "File \u001b[1;32mc:\\Users\\sbasa\\.conda\\envs\\Optica\\Lib\\site-packages\\PIL\\Image.py:3431\u001b[0m, in \u001b[0;36mopen\u001b[1;34m(fp, mode, formats)\u001b[0m\n\u001b[0;32m   3428\u001b[0m     filename \u001b[38;5;241m=\u001b[39m os\u001b[38;5;241m.\u001b[39mpath\u001b[38;5;241m.\u001b[39mrealpath(os\u001b[38;5;241m.\u001b[39mfspath(fp))\n\u001b[0;32m   3430\u001b[0m \u001b[38;5;28;01mif\u001b[39;00m filename:\n\u001b[1;32m-> 3431\u001b[0m     fp \u001b[38;5;241m=\u001b[39m \u001b[43mbuiltins\u001b[49m\u001b[38;5;241;43m.\u001b[39;49m\u001b[43mopen\u001b[49m\u001b[43m(\u001b[49m\u001b[43mfilename\u001b[49m\u001b[43m,\u001b[49m\u001b[43m \u001b[49m\u001b[38;5;124;43m\"\u001b[39;49m\u001b[38;5;124;43mrb\u001b[39;49m\u001b[38;5;124;43m\"\u001b[39;49m\u001b[43m)\u001b[49m\n\u001b[0;32m   3432\u001b[0m     exclusive_fp \u001b[38;5;241m=\u001b[39m \u001b[38;5;28;01mTrue\u001b[39;00m\n\u001b[0;32m   3433\u001b[0m \u001b[38;5;28;01melse\u001b[39;00m:\n",
      "\u001b[1;31mFileNotFoundError\u001b[0m: [Errno 2] No such file or directory: 'C:\\\\Users\\\\sbasa\\\\AppData\\\\Local\\\\Programs\\\\Microsoft VS Code\\\\Images\\\\hologram.tif'"
     ]
    }
   ],
   "source": [
    "from pyDHM import utilities\n",
    "from pyDHM import phaseCompensation\n",
    "\n",
    "input = utilities.imageRead('Images/hologram.tif')\n",
    "output = phaseCompensation.FRS(input, True, 0.633, 6.9, 6.9, 2, 10)\n",
    "output = phaseCompensation.CFS(input, 0.532, 2.6, 2.3)\n",
    "\n",
    "phase = utilities.phase(output)\n",
    "utilities.imageShow(phase, 'Phase reconstruction')"
   ]
  }
 ],
 "metadata": {
  "kernelspec": {
   "display_name": "base",
   "language": "python",
   "name": "python3"
  },
  "language_info": {
   "codemirror_mode": {
    "name": "ipython",
    "version": 3
   },
   "file_extension": ".py",
   "mimetype": "text/x-python",
   "name": "python",
   "nbconvert_exporter": "python",
   "pygments_lexer": "ipython3",
   "version": "3.12.5"
  }
 },
 "nbformat": 4,
 "nbformat_minor": 2
}
